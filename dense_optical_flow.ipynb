{
 "cells": [
  {
   "cell_type": "code",
   "execution_count": 4,
   "metadata": {},
   "outputs": [],
   "source": [
    "import cv2\n",
    "import numpy as np"
   ]
  },
  {
   "cell_type": "markdown",
   "metadata": {},
   "source": [
    "# Dense Optical Flow"
   ]
  },
  {
   "cell_type": "code",
   "execution_count": 5,
   "metadata": {},
   "outputs": [],
   "source": [
    "def apply_optical_flow(frame1,frame2):\n",
    "    img1 = cv2.resize(frame1, (640, 320))\n",
    "    img2 = cv2.resize(frame2, (640, 320))\n",
    "\n",
    "    gray1 = cv2.cvtColor(img1, cv2.COLOR_BGR2GRAY)\n",
    "    gray2 = cv2.cvtColor(img2, cv2.COLOR_BGR2GRAY)\n",
    "\n",
    "    flow = cv2.calcOpticalFlowFarneback(gray1, gray2, None, 0.5, 5, 15,  3,  5,  1.2, 0) \n",
    "\n",
    "    hsv = np.zeros( (320,640,3), dtype = np.uint8)\n",
    "    hsv[...,1] = 255\n",
    "    mag, ang = cv2.cartToPolar(flow[...,0], flow[...,1])\n",
    "    hsv[...,0] = ang*180/np.pi/2\n",
    "    hsv[...,2] = cv2.normalize(mag,None,0,255,cv2.NORM_MINMAX)\n",
    "    rgb = cv2.cvtColor(hsv,cv2.COLOR_HSV2BGR)\n",
    "\n",
    "    return rgb"
   ]
  },
  {
   "cell_type": "code",
   "execution_count": 6,
   "metadata": {},
   "outputs": [
    {
     "name": "stdout",
     "output_type": "stream",
     "text": [
      "335\n"
     ]
    }
   ],
   "source": [
    "# Read video file\n",
    "cap = cv2.VideoCapture('./traffic_-_27260 (360p).mp4')\n",
    "\n",
    "# Read the first frame\n",
    "ret, frame1 = cap.read()\n",
    "count=1\n",
    "\n",
    "frameSize = (640, 320)\n",
    "\n",
    "out = cv2.VideoWriter('hs.avi',cv2.VideoWriter_fourcc(*'DIVX'), 30, frameSize)\n",
    "\n",
    "while ret:\n",
    "    ret, frame2 = cap.read()\n",
    "    if not ret:\n",
    "        break\n",
    "    out.write(apply_optical_flow(frame1,frame2))\n",
    "\n",
    "    frame1 = frame2\n",
    "    count+=1\n",
    "\n",
    "\n",
    "print(count)\n",
    "out.release()"
   ]
  }
 ],
 "metadata": {
  "kernelspec": {
   "display_name": "Python 3",
   "language": "python",
   "name": "python3"
  },
  "language_info": {
   "codemirror_mode": {
    "name": "ipython",
    "version": 3
   },
   "file_extension": ".py",
   "mimetype": "text/x-python",
   "name": "python",
   "nbconvert_exporter": "python",
   "pygments_lexer": "ipython3",
   "version": "3.10.7"
  }
 },
 "nbformat": 4,
 "nbformat_minor": 2
}
